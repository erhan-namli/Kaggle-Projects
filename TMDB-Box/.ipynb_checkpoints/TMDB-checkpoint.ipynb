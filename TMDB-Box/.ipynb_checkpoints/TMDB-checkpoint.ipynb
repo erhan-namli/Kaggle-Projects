{
 "cells": [
  {
   "cell_type": "markdown",
   "metadata": {},
   "source": [
    "# Veri Kurulumu ve Kütüphaneler"
   ]
  },
  {
   "cell_type": "code",
   "execution_count": 1,
   "metadata": {},
   "outputs": [],
   "source": [
    "import pandas as pd\n",
    "import numpy as np\n",
    "import seaborn as sns\n",
    "import warnings\n",
    "import matplotlib.pyplot as plt\n",
    "%matplotlib inline\n",
    "warnings.filterwarnings(\"ignore\")"
   ]
  },
  {
   "cell_type": "code",
   "execution_count": 2,
   "metadata": {},
   "outputs": [],
   "source": [
    "train = pd.read_csv('train.csv')"
   ]
  },
  {
   "cell_type": "code",
   "execution_count": 3,
   "metadata": {},
   "outputs": [
    {
     "data": {
      "text/plain": [
       "Index(['id', 'belongs_to_collection', 'budget', 'genres', 'homepage',\n",
       "       'imdb_id', 'original_language', 'original_title', 'overview',\n",
       "       'popularity', 'poster_path', 'production_companies',\n",
       "       'production_countries', 'release_date', 'runtime', 'spoken_languages',\n",
       "       'status', 'tagline', 'title', 'Keywords', 'cast', 'crew', 'revenue'],\n",
       "      dtype='object')"
      ]
     },
     "execution_count": 3,
     "metadata": {},
     "output_type": "execute_result"
    }
   ],
   "source": [
    "train.columns"
   ]
  },
  {
   "cell_type": "markdown",
   "metadata": {},
   "source": [
    "# Veri İncelemesi ve Görselleştirmesi"
   ]
  },
  {
   "cell_type": "code",
   "execution_count": 4,
   "metadata": {},
   "outputs": [
    {
     "name": "stdout",
     "output_type": "stream",
     "text": [
      "<class 'pandas.core.frame.DataFrame'>\n",
      "RangeIndex: 3000 entries, 0 to 2999\n",
      "Data columns (total 23 columns):\n",
      " #   Column                 Non-Null Count  Dtype  \n",
      "---  ------                 --------------  -----  \n",
      " 0   id                     3000 non-null   int64  \n",
      " 1   belongs_to_collection  604 non-null    object \n",
      " 2   budget                 3000 non-null   int64  \n",
      " 3   genres                 2993 non-null   object \n",
      " 4   homepage               946 non-null    object \n",
      " 5   imdb_id                3000 non-null   object \n",
      " 6   original_language      3000 non-null   object \n",
      " 7   original_title         3000 non-null   object \n",
      " 8   overview               2992 non-null   object \n",
      " 9   popularity             3000 non-null   float64\n",
      " 10  poster_path            2999 non-null   object \n",
      " 11  production_companies   2844 non-null   object \n",
      " 12  production_countries   2945 non-null   object \n",
      " 13  release_date           3000 non-null   object \n",
      " 14  runtime                2998 non-null   float64\n",
      " 15  spoken_languages       2980 non-null   object \n",
      " 16  status                 3000 non-null   object \n",
      " 17  tagline                2403 non-null   object \n",
      " 18  title                  3000 non-null   object \n",
      " 19  Keywords               2724 non-null   object \n",
      " 20  cast                   2987 non-null   object \n",
      " 21  crew                   2984 non-null   object \n",
      " 22  revenue                3000 non-null   int64  \n",
      "dtypes: float64(2), int64(3), object(18)\n",
      "memory usage: 539.2+ KB\n"
     ]
    }
   ],
   "source": [
    "train.info()"
   ]
  },
  {
   "cell_type": "code",
   "execution_count": 5,
   "metadata": {},
   "outputs": [
    {
     "data": {
      "text/html": [
       "<div>\n",
       "<style scoped>\n",
       "    .dataframe tbody tr th:only-of-type {\n",
       "        vertical-align: middle;\n",
       "    }\n",
       "\n",
       "    .dataframe tbody tr th {\n",
       "        vertical-align: top;\n",
       "    }\n",
       "\n",
       "    .dataframe thead th {\n",
       "        text-align: right;\n",
       "    }\n",
       "</style>\n",
       "<table border=\"1\" class=\"dataframe\">\n",
       "  <thead>\n",
       "    <tr style=\"text-align: right;\">\n",
       "      <th></th>\n",
       "      <th>id</th>\n",
       "      <th>belongs_to_collection</th>\n",
       "      <th>budget</th>\n",
       "      <th>genres</th>\n",
       "      <th>homepage</th>\n",
       "      <th>imdb_id</th>\n",
       "      <th>original_language</th>\n",
       "      <th>original_title</th>\n",
       "      <th>overview</th>\n",
       "      <th>popularity</th>\n",
       "      <th>...</th>\n",
       "      <th>release_date</th>\n",
       "      <th>runtime</th>\n",
       "      <th>spoken_languages</th>\n",
       "      <th>status</th>\n",
       "      <th>tagline</th>\n",
       "      <th>title</th>\n",
       "      <th>Keywords</th>\n",
       "      <th>cast</th>\n",
       "      <th>crew</th>\n",
       "      <th>revenue</th>\n",
       "    </tr>\n",
       "  </thead>\n",
       "  <tbody>\n",
       "    <tr>\n",
       "      <th>0</th>\n",
       "      <td>1</td>\n",
       "      <td>[{'id': 313576, 'name': 'Hot Tub Time Machine ...</td>\n",
       "      <td>14000000</td>\n",
       "      <td>[{'id': 35, 'name': 'Comedy'}]</td>\n",
       "      <td>NaN</td>\n",
       "      <td>tt2637294</td>\n",
       "      <td>en</td>\n",
       "      <td>Hot Tub Time Machine 2</td>\n",
       "      <td>When Lou, who has become the \"father of the In...</td>\n",
       "      <td>6.575393</td>\n",
       "      <td>...</td>\n",
       "      <td>2/20/15</td>\n",
       "      <td>93.0</td>\n",
       "      <td>[{'iso_639_1': 'en', 'name': 'English'}]</td>\n",
       "      <td>Released</td>\n",
       "      <td>The Laws of Space and Time are About to be Vio...</td>\n",
       "      <td>Hot Tub Time Machine 2</td>\n",
       "      <td>[{'id': 4379, 'name': 'time travel'}, {'id': 9...</td>\n",
       "      <td>[{'cast_id': 4, 'character': 'Lou', 'credit_id...</td>\n",
       "      <td>[{'credit_id': '59ac067c92514107af02c8c8', 'de...</td>\n",
       "      <td>12314651</td>\n",
       "    </tr>\n",
       "    <tr>\n",
       "      <th>1</th>\n",
       "      <td>2</td>\n",
       "      <td>[{'id': 107674, 'name': 'The Princess Diaries ...</td>\n",
       "      <td>40000000</td>\n",
       "      <td>[{'id': 35, 'name': 'Comedy'}, {'id': 18, 'nam...</td>\n",
       "      <td>NaN</td>\n",
       "      <td>tt0368933</td>\n",
       "      <td>en</td>\n",
       "      <td>The Princess Diaries 2: Royal Engagement</td>\n",
       "      <td>Mia Thermopolis is now a college graduate and ...</td>\n",
       "      <td>8.248895</td>\n",
       "      <td>...</td>\n",
       "      <td>8/6/04</td>\n",
       "      <td>113.0</td>\n",
       "      <td>[{'iso_639_1': 'en', 'name': 'English'}]</td>\n",
       "      <td>Released</td>\n",
       "      <td>It can take a lifetime to find true love; she'...</td>\n",
       "      <td>The Princess Diaries 2: Royal Engagement</td>\n",
       "      <td>[{'id': 2505, 'name': 'coronation'}, {'id': 42...</td>\n",
       "      <td>[{'cast_id': 1, 'character': 'Mia Thermopolis'...</td>\n",
       "      <td>[{'credit_id': '52fe43fe9251416c7502563d', 'de...</td>\n",
       "      <td>95149435</td>\n",
       "    </tr>\n",
       "    <tr>\n",
       "      <th>2</th>\n",
       "      <td>3</td>\n",
       "      <td>NaN</td>\n",
       "      <td>3300000</td>\n",
       "      <td>[{'id': 18, 'name': 'Drama'}]</td>\n",
       "      <td>http://sonyclassics.com/whiplash/</td>\n",
       "      <td>tt2582802</td>\n",
       "      <td>en</td>\n",
       "      <td>Whiplash</td>\n",
       "      <td>Under the direction of a ruthless instructor, ...</td>\n",
       "      <td>64.299990</td>\n",
       "      <td>...</td>\n",
       "      <td>10/10/14</td>\n",
       "      <td>105.0</td>\n",
       "      <td>[{'iso_639_1': 'en', 'name': 'English'}]</td>\n",
       "      <td>Released</td>\n",
       "      <td>The road to greatness can take you to the edge.</td>\n",
       "      <td>Whiplash</td>\n",
       "      <td>[{'id': 1416, 'name': 'jazz'}, {'id': 1523, 'n...</td>\n",
       "      <td>[{'cast_id': 5, 'character': 'Andrew Neimann',...</td>\n",
       "      <td>[{'credit_id': '54d5356ec3a3683ba0000039', 'de...</td>\n",
       "      <td>13092000</td>\n",
       "    </tr>\n",
       "    <tr>\n",
       "      <th>3</th>\n",
       "      <td>4</td>\n",
       "      <td>NaN</td>\n",
       "      <td>1200000</td>\n",
       "      <td>[{'id': 53, 'name': 'Thriller'}, {'id': 18, 'n...</td>\n",
       "      <td>http://kahaanithefilm.com/</td>\n",
       "      <td>tt1821480</td>\n",
       "      <td>hi</td>\n",
       "      <td>Kahaani</td>\n",
       "      <td>Vidya Bagchi (Vidya Balan) arrives in Kolkata ...</td>\n",
       "      <td>3.174936</td>\n",
       "      <td>...</td>\n",
       "      <td>3/9/12</td>\n",
       "      <td>122.0</td>\n",
       "      <td>[{'iso_639_1': 'en', 'name': 'English'}, {'iso...</td>\n",
       "      <td>Released</td>\n",
       "      <td>NaN</td>\n",
       "      <td>Kahaani</td>\n",
       "      <td>[{'id': 10092, 'name': 'mystery'}, {'id': 1054...</td>\n",
       "      <td>[{'cast_id': 1, 'character': 'Vidya Bagchi', '...</td>\n",
       "      <td>[{'credit_id': '52fe48779251416c9108d6eb', 'de...</td>\n",
       "      <td>16000000</td>\n",
       "    </tr>\n",
       "    <tr>\n",
       "      <th>4</th>\n",
       "      <td>5</td>\n",
       "      <td>NaN</td>\n",
       "      <td>0</td>\n",
       "      <td>[{'id': 28, 'name': 'Action'}, {'id': 53, 'nam...</td>\n",
       "      <td>NaN</td>\n",
       "      <td>tt1380152</td>\n",
       "      <td>ko</td>\n",
       "      <td>마린보이</td>\n",
       "      <td>Marine Boy is the story of a former national s...</td>\n",
       "      <td>1.148070</td>\n",
       "      <td>...</td>\n",
       "      <td>2/5/09</td>\n",
       "      <td>118.0</td>\n",
       "      <td>[{'iso_639_1': 'ko', 'name': '한국어/조선말'}]</td>\n",
       "      <td>Released</td>\n",
       "      <td>NaN</td>\n",
       "      <td>Marine Boy</td>\n",
       "      <td>NaN</td>\n",
       "      <td>[{'cast_id': 3, 'character': 'Chun-soo', 'cred...</td>\n",
       "      <td>[{'credit_id': '52fe464b9251416c75073b43', 'de...</td>\n",
       "      <td>3923970</td>\n",
       "    </tr>\n",
       "    <tr>\n",
       "      <th>5</th>\n",
       "      <td>6</td>\n",
       "      <td>NaN</td>\n",
       "      <td>8000000</td>\n",
       "      <td>[{'id': 16, 'name': 'Animation'}, {'id': 12, '...</td>\n",
       "      <td>NaN</td>\n",
       "      <td>tt0093743</td>\n",
       "      <td>en</td>\n",
       "      <td>Pinocchio and the Emperor of the Night</td>\n",
       "      <td>Pinocchio and his friends, a glow worm and a m...</td>\n",
       "      <td>0.743274</td>\n",
       "      <td>...</td>\n",
       "      <td>8/6/87</td>\n",
       "      <td>83.0</td>\n",
       "      <td>[{'iso_639_1': 'en', 'name': 'English'}]</td>\n",
       "      <td>Released</td>\n",
       "      <td>NaN</td>\n",
       "      <td>Pinocchio and the Emperor of the Night</td>\n",
       "      <td>NaN</td>\n",
       "      <td>[{'cast_id': 6, 'character': 'Pinocchio (voice...</td>\n",
       "      <td>[{'credit_id': '52fe46f49251416c9106558b', 'de...</td>\n",
       "      <td>3261638</td>\n",
       "    </tr>\n",
       "    <tr>\n",
       "      <th>6</th>\n",
       "      <td>7</td>\n",
       "      <td>NaN</td>\n",
       "      <td>14000000</td>\n",
       "      <td>[{'id': 27, 'name': 'Horror'}, {'id': 53, 'nam...</td>\n",
       "      <td>http://www.thepossessionmovie.com/</td>\n",
       "      <td>tt0431021</td>\n",
       "      <td>en</td>\n",
       "      <td>The Possession</td>\n",
       "      <td>A young girl buys an antique box at a yard sal...</td>\n",
       "      <td>7.286477</td>\n",
       "      <td>...</td>\n",
       "      <td>8/30/12</td>\n",
       "      <td>92.0</td>\n",
       "      <td>[{'iso_639_1': 'en', 'name': 'English'}]</td>\n",
       "      <td>Released</td>\n",
       "      <td>Fear The Demon That Doesn't Fear God</td>\n",
       "      <td>The Possession</td>\n",
       "      <td>NaN</td>\n",
       "      <td>[{'cast_id': 23, 'character': 'Clyde', 'credit...</td>\n",
       "      <td>[{'credit_id': '52fe4981c3a368484e12ee29', 'de...</td>\n",
       "      <td>85446075</td>\n",
       "    </tr>\n",
       "    <tr>\n",
       "      <th>7</th>\n",
       "      <td>8</td>\n",
       "      <td>NaN</td>\n",
       "      <td>0</td>\n",
       "      <td>[{'id': 99, 'name': 'Documentary'}]</td>\n",
       "      <td>NaN</td>\n",
       "      <td>tt0391024</td>\n",
       "      <td>en</td>\n",
       "      <td>Control Room</td>\n",
       "      <td>A chronicle which provides a rare window into ...</td>\n",
       "      <td>1.949044</td>\n",
       "      <td>...</td>\n",
       "      <td>1/15/04</td>\n",
       "      <td>84.0</td>\n",
       "      <td>[{'iso_639_1': 'ar', 'name': 'العربية'}, {'iso...</td>\n",
       "      <td>Released</td>\n",
       "      <td>Different channels. Different truths.</td>\n",
       "      <td>Control Room</td>\n",
       "      <td>[{'id': 917, 'name': 'journalism'}, {'id': 163...</td>\n",
       "      <td>[{'cast_id': 2, 'character': 'Himself', 'credi...</td>\n",
       "      <td>[{'credit_id': '52fe47a69251416c750a0daf', 'de...</td>\n",
       "      <td>2586511</td>\n",
       "    </tr>\n",
       "    <tr>\n",
       "      <th>8</th>\n",
       "      <td>9</td>\n",
       "      <td>[{'id': 256377, 'name': 'The Muppet Collection...</td>\n",
       "      <td>0</td>\n",
       "      <td>[{'id': 28, 'name': 'Action'}, {'id': 35, 'nam...</td>\n",
       "      <td>NaN</td>\n",
       "      <td>tt0117110</td>\n",
       "      <td>en</td>\n",
       "      <td>Muppet Treasure Island</td>\n",
       "      <td>After telling the story of Flint's last journe...</td>\n",
       "      <td>6.902423</td>\n",
       "      <td>...</td>\n",
       "      <td>2/16/96</td>\n",
       "      <td>100.0</td>\n",
       "      <td>[{'iso_639_1': 'en', 'name': 'English'}]</td>\n",
       "      <td>Released</td>\n",
       "      <td>Set sail for Muppet mayhem!</td>\n",
       "      <td>Muppet Treasure Island</td>\n",
       "      <td>[{'id': 2041, 'name': 'island'}, {'id': 4418, ...</td>\n",
       "      <td>[{'cast_id': 1, 'character': 'Long John Silver...</td>\n",
       "      <td>[{'credit_id': '52fe43c89251416c7501deb3', 'de...</td>\n",
       "      <td>34327391</td>\n",
       "    </tr>\n",
       "    <tr>\n",
       "      <th>9</th>\n",
       "      <td>10</td>\n",
       "      <td>NaN</td>\n",
       "      <td>6000000</td>\n",
       "      <td>[{'id': 35, 'name': 'Comedy'}, {'id': 10402, '...</td>\n",
       "      <td>NaN</td>\n",
       "      <td>tt0310281</td>\n",
       "      <td>en</td>\n",
       "      <td>A Mighty Wind</td>\n",
       "      <td>In \"A Mighty Wind\", director Christopher Guest...</td>\n",
       "      <td>4.672036</td>\n",
       "      <td>...</td>\n",
       "      <td>4/16/03</td>\n",
       "      <td>91.0</td>\n",
       "      <td>[{'iso_639_1': 'en', 'name': 'English'}]</td>\n",
       "      <td>Released</td>\n",
       "      <td>Back together for the first time, again.</td>\n",
       "      <td>A Mighty Wind</td>\n",
       "      <td>[{'id': 11800, 'name': 'mockumentary'}, {'id':...</td>\n",
       "      <td>[{'cast_id': 24, 'character': 'Jonathan Steinb...</td>\n",
       "      <td>[{'credit_id': '52fe45609251416c750545b3', 'de...</td>\n",
       "      <td>18750246</td>\n",
       "    </tr>\n",
       "    <tr>\n",
       "      <th>10</th>\n",
       "      <td>11</td>\n",
       "      <td>[{'id': 1575, 'name': 'Rocky Collection', 'pos...</td>\n",
       "      <td>1000000</td>\n",
       "      <td>[{'id': 18, 'name': 'Drama'}]</td>\n",
       "      <td>NaN</td>\n",
       "      <td>tt0075148</td>\n",
       "      <td>en</td>\n",
       "      <td>Rocky</td>\n",
       "      <td>When world heavyweight boxing champion, Apollo...</td>\n",
       "      <td>14.774066</td>\n",
       "      <td>...</td>\n",
       "      <td>11/21/76</td>\n",
       "      <td>119.0</td>\n",
       "      <td>[{'iso_639_1': 'en', 'name': 'English'}]</td>\n",
       "      <td>Released</td>\n",
       "      <td>His whole life was a million-to-one shot.</td>\n",
       "      <td>Rocky</td>\n",
       "      <td>[{'id': 240, 'name': 'underdog'}, {'id': 276, ...</td>\n",
       "      <td>[{'cast_id': 16, 'character': 'Rocky Balboa', ...</td>\n",
       "      <td>[{'credit_id': '579948e9c3a36874e9007b0b', 'de...</td>\n",
       "      <td>117235147</td>\n",
       "    </tr>\n",
       "    <tr>\n",
       "      <th>11</th>\n",
       "      <td>12</td>\n",
       "      <td>[{'id': 48190, 'name': 'Revenge of the Nerds C...</td>\n",
       "      <td>0</td>\n",
       "      <td>[{'id': 35, 'name': 'Comedy'}]</td>\n",
       "      <td>NaN</td>\n",
       "      <td>tt0093857</td>\n",
       "      <td>en</td>\n",
       "      <td>Revenge of the Nerds II: Nerds in Paradise</td>\n",
       "      <td>The members of the Lambda Lambda Lambda frater...</td>\n",
       "      <td>10.543750</td>\n",
       "      <td>...</td>\n",
       "      <td>7/10/87</td>\n",
       "      <td>98.0</td>\n",
       "      <td>[{'iso_639_1': 'en', 'name': 'English'}]</td>\n",
       "      <td>Released</td>\n",
       "      <td>They're Back!</td>\n",
       "      <td>Revenge of the Nerds II: Nerds in Paradise</td>\n",
       "      <td>[{'id': 5801, 'name': 'nerd'}, {'id': 6876, 'n...</td>\n",
       "      <td>[{'cast_id': 2, 'character': 'Lewis Skolnick',...</td>\n",
       "      <td>[{'credit_id': '52fe46f49251416c750891e9', 'de...</td>\n",
       "      <td>22642033</td>\n",
       "    </tr>\n",
       "    <tr>\n",
       "      <th>12</th>\n",
       "      <td>13</td>\n",
       "      <td>NaN</td>\n",
       "      <td>15000000</td>\n",
       "      <td>[{'id': 18, 'name': 'Drama'}]</td>\n",
       "      <td>http://www.dreamworks.com/ab/</td>\n",
       "      <td>tt0169547</td>\n",
       "      <td>en</td>\n",
       "      <td>American Beauty</td>\n",
       "      <td>Lester Burnham, a depressed suburban father in...</td>\n",
       "      <td>20.726578</td>\n",
       "      <td>...</td>\n",
       "      <td>9/15/99</td>\n",
       "      <td>122.0</td>\n",
       "      <td>[{'iso_639_1': 'en', 'name': 'English'}]</td>\n",
       "      <td>Released</td>\n",
       "      <td>Look closer.</td>\n",
       "      <td>American Beauty</td>\n",
       "      <td>[{'id': 255, 'name': 'male nudity'}, {'id': 29...</td>\n",
       "      <td>[{'cast_id': 6, 'character': 'Lester Burnham',...</td>\n",
       "      <td>[{'credit_id': '52fe420ec3a36847f80007c5', 'de...</td>\n",
       "      <td>356296601</td>\n",
       "    </tr>\n",
       "    <tr>\n",
       "      <th>13</th>\n",
       "      <td>14</td>\n",
       "      <td>[{'id': 91698, 'name': 'Chili Palmer Collectio...</td>\n",
       "      <td>53000000</td>\n",
       "      <td>[{'id': 35, 'name': 'Comedy'}, {'id': 80, 'nam...</td>\n",
       "      <td>NaN</td>\n",
       "      <td>tt0377471</td>\n",
       "      <td>en</td>\n",
       "      <td>Be Cool</td>\n",
       "      <td>Disenchanted with the movie industry, Chili Pa...</td>\n",
       "      <td>13.314233</td>\n",
       "      <td>...</td>\n",
       "      <td>3/4/05</td>\n",
       "      <td>118.0</td>\n",
       "      <td>[{'iso_639_1': 'en', 'name': 'English'}, {'iso...</td>\n",
       "      <td>Released</td>\n",
       "      <td>Everyone is looking for the next big hit</td>\n",
       "      <td>Be Cool</td>\n",
       "      <td>[{'id': 3605, 'name': 'baseball bat'}, {'id': ...</td>\n",
       "      <td>[{'cast_id': 4, 'character': 'Chili Palmer', '...</td>\n",
       "      <td>[{'credit_id': '52fe43cbc3a36847f807039f', 'de...</td>\n",
       "      <td>95226116</td>\n",
       "    </tr>\n",
       "    <tr>\n",
       "      <th>14</th>\n",
       "      <td>15</td>\n",
       "      <td>NaN</td>\n",
       "      <td>102000000</td>\n",
       "      <td>[{'id': 28, 'name': 'Action'}, {'id': 53, 'nam...</td>\n",
       "      <td>NaN</td>\n",
       "      <td>tt0181689</td>\n",
       "      <td>en</td>\n",
       "      <td>Minority Report</td>\n",
       "      <td>John Anderton is a top 'Precrime' cop in the l...</td>\n",
       "      <td>20.666063</td>\n",
       "      <td>...</td>\n",
       "      <td>6/20/02</td>\n",
       "      <td>145.0</td>\n",
       "      <td>[{'iso_639_1': 'en', 'name': 'English'}, {'iso...</td>\n",
       "      <td>Released</td>\n",
       "      <td>The system is perfect until it comes after you.</td>\n",
       "      <td>Minority Report</td>\n",
       "      <td>[{'id': 476, 'name': 'self-fulfilling prophecy...</td>\n",
       "      <td>[{'cast_id': 5, 'character': 'Chief John Ander...</td>\n",
       "      <td>[{'credit_id': '52fe4223c3a36847f8006f3d', 'de...</td>\n",
       "      <td>358372926</td>\n",
       "    </tr>\n",
       "  </tbody>\n",
       "</table>\n",
       "<p>15 rows × 23 columns</p>\n",
       "</div>"
      ],
      "text/plain": [
       "    id                              belongs_to_collection     budget  \\\n",
       "0    1  [{'id': 313576, 'name': 'Hot Tub Time Machine ...   14000000   \n",
       "1    2  [{'id': 107674, 'name': 'The Princess Diaries ...   40000000   \n",
       "2    3                                                NaN    3300000   \n",
       "3    4                                                NaN    1200000   \n",
       "4    5                                                NaN          0   \n",
       "5    6                                                NaN    8000000   \n",
       "6    7                                                NaN   14000000   \n",
       "7    8                                                NaN          0   \n",
       "8    9  [{'id': 256377, 'name': 'The Muppet Collection...          0   \n",
       "9   10                                                NaN    6000000   \n",
       "10  11  [{'id': 1575, 'name': 'Rocky Collection', 'pos...    1000000   \n",
       "11  12  [{'id': 48190, 'name': 'Revenge of the Nerds C...          0   \n",
       "12  13                                                NaN   15000000   \n",
       "13  14  [{'id': 91698, 'name': 'Chili Palmer Collectio...   53000000   \n",
       "14  15                                                NaN  102000000   \n",
       "\n",
       "                                               genres  \\\n",
       "0                      [{'id': 35, 'name': 'Comedy'}]   \n",
       "1   [{'id': 35, 'name': 'Comedy'}, {'id': 18, 'nam...   \n",
       "2                       [{'id': 18, 'name': 'Drama'}]   \n",
       "3   [{'id': 53, 'name': 'Thriller'}, {'id': 18, 'n...   \n",
       "4   [{'id': 28, 'name': 'Action'}, {'id': 53, 'nam...   \n",
       "5   [{'id': 16, 'name': 'Animation'}, {'id': 12, '...   \n",
       "6   [{'id': 27, 'name': 'Horror'}, {'id': 53, 'nam...   \n",
       "7                 [{'id': 99, 'name': 'Documentary'}]   \n",
       "8   [{'id': 28, 'name': 'Action'}, {'id': 35, 'nam...   \n",
       "9   [{'id': 35, 'name': 'Comedy'}, {'id': 10402, '...   \n",
       "10                      [{'id': 18, 'name': 'Drama'}]   \n",
       "11                     [{'id': 35, 'name': 'Comedy'}]   \n",
       "12                      [{'id': 18, 'name': 'Drama'}]   \n",
       "13  [{'id': 35, 'name': 'Comedy'}, {'id': 80, 'nam...   \n",
       "14  [{'id': 28, 'name': 'Action'}, {'id': 53, 'nam...   \n",
       "\n",
       "                              homepage    imdb_id original_language  \\\n",
       "0                                  NaN  tt2637294                en   \n",
       "1                                  NaN  tt0368933                en   \n",
       "2    http://sonyclassics.com/whiplash/  tt2582802                en   \n",
       "3           http://kahaanithefilm.com/  tt1821480                hi   \n",
       "4                                  NaN  tt1380152                ko   \n",
       "5                                  NaN  tt0093743                en   \n",
       "6   http://www.thepossessionmovie.com/  tt0431021                en   \n",
       "7                                  NaN  tt0391024                en   \n",
       "8                                  NaN  tt0117110                en   \n",
       "9                                  NaN  tt0310281                en   \n",
       "10                                 NaN  tt0075148                en   \n",
       "11                                 NaN  tt0093857                en   \n",
       "12       http://www.dreamworks.com/ab/  tt0169547                en   \n",
       "13                                 NaN  tt0377471                en   \n",
       "14                                 NaN  tt0181689                en   \n",
       "\n",
       "                                original_title  \\\n",
       "0                       Hot Tub Time Machine 2   \n",
       "1     The Princess Diaries 2: Royal Engagement   \n",
       "2                                     Whiplash   \n",
       "3                                      Kahaani   \n",
       "4                                         마린보이   \n",
       "5       Pinocchio and the Emperor of the Night   \n",
       "6                               The Possession   \n",
       "7                                 Control Room   \n",
       "8                       Muppet Treasure Island   \n",
       "9                                A Mighty Wind   \n",
       "10                                       Rocky   \n",
       "11  Revenge of the Nerds II: Nerds in Paradise   \n",
       "12                             American Beauty   \n",
       "13                                     Be Cool   \n",
       "14                             Minority Report   \n",
       "\n",
       "                                             overview  popularity  ...  \\\n",
       "0   When Lou, who has become the \"father of the In...    6.575393  ...   \n",
       "1   Mia Thermopolis is now a college graduate and ...    8.248895  ...   \n",
       "2   Under the direction of a ruthless instructor, ...   64.299990  ...   \n",
       "3   Vidya Bagchi (Vidya Balan) arrives in Kolkata ...    3.174936  ...   \n",
       "4   Marine Boy is the story of a former national s...    1.148070  ...   \n",
       "5   Pinocchio and his friends, a glow worm and a m...    0.743274  ...   \n",
       "6   A young girl buys an antique box at a yard sal...    7.286477  ...   \n",
       "7   A chronicle which provides a rare window into ...    1.949044  ...   \n",
       "8   After telling the story of Flint's last journe...    6.902423  ...   \n",
       "9   In \"A Mighty Wind\", director Christopher Guest...    4.672036  ...   \n",
       "10  When world heavyweight boxing champion, Apollo...   14.774066  ...   \n",
       "11  The members of the Lambda Lambda Lambda frater...   10.543750  ...   \n",
       "12  Lester Burnham, a depressed suburban father in...   20.726578  ...   \n",
       "13  Disenchanted with the movie industry, Chili Pa...   13.314233  ...   \n",
       "14  John Anderton is a top 'Precrime' cop in the l...   20.666063  ...   \n",
       "\n",
       "   release_date runtime                                   spoken_languages  \\\n",
       "0       2/20/15    93.0           [{'iso_639_1': 'en', 'name': 'English'}]   \n",
       "1        8/6/04   113.0           [{'iso_639_1': 'en', 'name': 'English'}]   \n",
       "2      10/10/14   105.0           [{'iso_639_1': 'en', 'name': 'English'}]   \n",
       "3        3/9/12   122.0  [{'iso_639_1': 'en', 'name': 'English'}, {'iso...   \n",
       "4        2/5/09   118.0           [{'iso_639_1': 'ko', 'name': '한국어/조선말'}]   \n",
       "5        8/6/87    83.0           [{'iso_639_1': 'en', 'name': 'English'}]   \n",
       "6       8/30/12    92.0           [{'iso_639_1': 'en', 'name': 'English'}]   \n",
       "7       1/15/04    84.0  [{'iso_639_1': 'ar', 'name': 'العربية'}, {'iso...   \n",
       "8       2/16/96   100.0           [{'iso_639_1': 'en', 'name': 'English'}]   \n",
       "9       4/16/03    91.0           [{'iso_639_1': 'en', 'name': 'English'}]   \n",
       "10     11/21/76   119.0           [{'iso_639_1': 'en', 'name': 'English'}]   \n",
       "11      7/10/87    98.0           [{'iso_639_1': 'en', 'name': 'English'}]   \n",
       "12      9/15/99   122.0           [{'iso_639_1': 'en', 'name': 'English'}]   \n",
       "13       3/4/05   118.0  [{'iso_639_1': 'en', 'name': 'English'}, {'iso...   \n",
       "14      6/20/02   145.0  [{'iso_639_1': 'en', 'name': 'English'}, {'iso...   \n",
       "\n",
       "      status                                            tagline  \\\n",
       "0   Released  The Laws of Space and Time are About to be Vio...   \n",
       "1   Released  It can take a lifetime to find true love; she'...   \n",
       "2   Released    The road to greatness can take you to the edge.   \n",
       "3   Released                                                NaN   \n",
       "4   Released                                                NaN   \n",
       "5   Released                                                NaN   \n",
       "6   Released               Fear The Demon That Doesn't Fear God   \n",
       "7   Released              Different channels. Different truths.   \n",
       "8   Released                        Set sail for Muppet mayhem!   \n",
       "9   Released           Back together for the first time, again.   \n",
       "10  Released          His whole life was a million-to-one shot.   \n",
       "11  Released                                      They're Back!   \n",
       "12  Released                                       Look closer.   \n",
       "13  Released           Everyone is looking for the next big hit   \n",
       "14  Released    The system is perfect until it comes after you.   \n",
       "\n",
       "                                         title  \\\n",
       "0                       Hot Tub Time Machine 2   \n",
       "1     The Princess Diaries 2: Royal Engagement   \n",
       "2                                     Whiplash   \n",
       "3                                      Kahaani   \n",
       "4                                   Marine Boy   \n",
       "5       Pinocchio and the Emperor of the Night   \n",
       "6                               The Possession   \n",
       "7                                 Control Room   \n",
       "8                       Muppet Treasure Island   \n",
       "9                                A Mighty Wind   \n",
       "10                                       Rocky   \n",
       "11  Revenge of the Nerds II: Nerds in Paradise   \n",
       "12                             American Beauty   \n",
       "13                                     Be Cool   \n",
       "14                             Minority Report   \n",
       "\n",
       "                                             Keywords  \\\n",
       "0   [{'id': 4379, 'name': 'time travel'}, {'id': 9...   \n",
       "1   [{'id': 2505, 'name': 'coronation'}, {'id': 42...   \n",
       "2   [{'id': 1416, 'name': 'jazz'}, {'id': 1523, 'n...   \n",
       "3   [{'id': 10092, 'name': 'mystery'}, {'id': 1054...   \n",
       "4                                                 NaN   \n",
       "5                                                 NaN   \n",
       "6                                                 NaN   \n",
       "7   [{'id': 917, 'name': 'journalism'}, {'id': 163...   \n",
       "8   [{'id': 2041, 'name': 'island'}, {'id': 4418, ...   \n",
       "9   [{'id': 11800, 'name': 'mockumentary'}, {'id':...   \n",
       "10  [{'id': 240, 'name': 'underdog'}, {'id': 276, ...   \n",
       "11  [{'id': 5801, 'name': 'nerd'}, {'id': 6876, 'n...   \n",
       "12  [{'id': 255, 'name': 'male nudity'}, {'id': 29...   \n",
       "13  [{'id': 3605, 'name': 'baseball bat'}, {'id': ...   \n",
       "14  [{'id': 476, 'name': 'self-fulfilling prophecy...   \n",
       "\n",
       "                                                 cast  \\\n",
       "0   [{'cast_id': 4, 'character': 'Lou', 'credit_id...   \n",
       "1   [{'cast_id': 1, 'character': 'Mia Thermopolis'...   \n",
       "2   [{'cast_id': 5, 'character': 'Andrew Neimann',...   \n",
       "3   [{'cast_id': 1, 'character': 'Vidya Bagchi', '...   \n",
       "4   [{'cast_id': 3, 'character': 'Chun-soo', 'cred...   \n",
       "5   [{'cast_id': 6, 'character': 'Pinocchio (voice...   \n",
       "6   [{'cast_id': 23, 'character': 'Clyde', 'credit...   \n",
       "7   [{'cast_id': 2, 'character': 'Himself', 'credi...   \n",
       "8   [{'cast_id': 1, 'character': 'Long John Silver...   \n",
       "9   [{'cast_id': 24, 'character': 'Jonathan Steinb...   \n",
       "10  [{'cast_id': 16, 'character': 'Rocky Balboa', ...   \n",
       "11  [{'cast_id': 2, 'character': 'Lewis Skolnick',...   \n",
       "12  [{'cast_id': 6, 'character': 'Lester Burnham',...   \n",
       "13  [{'cast_id': 4, 'character': 'Chili Palmer', '...   \n",
       "14  [{'cast_id': 5, 'character': 'Chief John Ander...   \n",
       "\n",
       "                                                 crew    revenue  \n",
       "0   [{'credit_id': '59ac067c92514107af02c8c8', 'de...   12314651  \n",
       "1   [{'credit_id': '52fe43fe9251416c7502563d', 'de...   95149435  \n",
       "2   [{'credit_id': '54d5356ec3a3683ba0000039', 'de...   13092000  \n",
       "3   [{'credit_id': '52fe48779251416c9108d6eb', 'de...   16000000  \n",
       "4   [{'credit_id': '52fe464b9251416c75073b43', 'de...    3923970  \n",
       "5   [{'credit_id': '52fe46f49251416c9106558b', 'de...    3261638  \n",
       "6   [{'credit_id': '52fe4981c3a368484e12ee29', 'de...   85446075  \n",
       "7   [{'credit_id': '52fe47a69251416c750a0daf', 'de...    2586511  \n",
       "8   [{'credit_id': '52fe43c89251416c7501deb3', 'de...   34327391  \n",
       "9   [{'credit_id': '52fe45609251416c750545b3', 'de...   18750246  \n",
       "10  [{'credit_id': '579948e9c3a36874e9007b0b', 'de...  117235147  \n",
       "11  [{'credit_id': '52fe46f49251416c750891e9', 'de...   22642033  \n",
       "12  [{'credit_id': '52fe420ec3a36847f80007c5', 'de...  356296601  \n",
       "13  [{'credit_id': '52fe43cbc3a36847f807039f', 'de...   95226116  \n",
       "14  [{'credit_id': '52fe4223c3a36847f8006f3d', 'de...  358372926  \n",
       "\n",
       "[15 rows x 23 columns]"
      ]
     },
     "execution_count": 5,
     "metadata": {},
     "output_type": "execute_result"
    }
   ],
   "source": [
    "train.head(15)"
   ]
  },
  {
   "cell_type": "code",
   "execution_count": 6,
   "metadata": {},
   "outputs": [
    {
     "data": {
      "text/plain": [
       "22531334.11"
      ]
     },
     "execution_count": 6,
     "metadata": {},
     "output_type": "execute_result"
    }
   ],
   "source": [
    "train['budget'].mean()"
   ]
  },
  {
   "cell_type": "code",
   "execution_count": 7,
   "metadata": {},
   "outputs": [
    {
     "data": {
      "text/plain": [
       "\"[{'id': 35, 'name': 'Comedy'}, {'id': 18, 'name': 'Drama'}, {'id': 10751, 'name': 'Family'}, {'id': 10749, 'name': 'Romance'}]\""
      ]
     },
     "execution_count": 7,
     "metadata": {},
     "output_type": "execute_result"
    }
   ],
   "source": [
    "train['genres'][1]"
   ]
  },
  {
   "cell_type": "code",
   "execution_count": 8,
   "metadata": {},
   "outputs": [
    {
     "data": {
      "text/plain": [
       "(941,\n",
       " 2561    NaN\n",
       " Name: homepage, dtype: object)"
      ]
     },
     "execution_count": 8,
     "metadata": {},
     "output_type": "execute_result"
    }
   ],
   "source": [
    "train['homepage'].nunique(), train['homepage'].sample() # Filmlerin websiteleri"
   ]
  },
  {
   "cell_type": "code",
   "execution_count": 9,
   "metadata": {},
   "outputs": [
    {
     "data": {
      "text/plain": [
       "array(['en', 'hi', 'ko', 'sr', 'fr', 'it', 'nl', 'zh', 'es', 'cs', 'ta',\n",
       "       'cn', 'ru', 'tr', 'ja', 'fa', 'sv', 'de', 'te', 'pt', 'mr', 'da',\n",
       "       'fi', 'el', 'ur', 'he', 'no', 'ar', 'nb', 'ro', 'vi', 'pl', 'hu',\n",
       "       'ml', 'bn', 'id'], dtype=object)"
      ]
     },
     "execution_count": 9,
     "metadata": {},
     "output_type": "execute_result"
    }
   ],
   "source": [
    "train['original_language'].unique()"
   ]
  },
  {
   "cell_type": "code",
   "execution_count": 10,
   "metadata": {},
   "outputs": [
    {
     "data": {
      "text/plain": [
       "array(['Released', 'Rumored'], dtype=object)"
      ]
     },
     "execution_count": 10,
     "metadata": {},
     "output_type": "execute_result"
    }
   ],
   "source": [
    "train['status'].unique()"
   ]
  },
  {
   "cell_type": "code",
   "execution_count": 11,
   "metadata": {},
   "outputs": [
    {
     "data": {
      "text/plain": [
       "2636    [{'credit_id': '534f9032c3a3681cae0008ce', 'de...\n",
       "Name: crew, dtype: object"
      ]
     },
     "execution_count": 11,
     "metadata": {},
     "output_type": "execute_result"
    }
   ],
   "source": [
    "train['crew'].sample()"
   ]
  },
  {
   "cell_type": "code",
   "execution_count": 12,
   "metadata": {},
   "outputs": [
    {
     "data": {
      "text/plain": [
       "2920    0.042036\n",
       "2369    7.739633\n",
       "2341    6.081401\n",
       "72      8.290384\n",
       "1489    2.903563\n",
       "Name: popularity, dtype: float64"
      ]
     },
     "execution_count": 12,
     "metadata": {},
     "output_type": "execute_result"
    }
   ],
   "source": [
    "train['popularity'].sample(5)"
   ]
  },
  {
   "cell_type": "code",
   "execution_count": 13,
   "metadata": {},
   "outputs": [
    {
     "data": {
      "text/plain": [
       "<AxesSubplot:>"
      ]
     },
     "execution_count": 13,
     "metadata": {},
     "output_type": "execute_result"
    },
    {
     "data": {
      "image/png": "[encoded data removed]",
      "text/plain": [
       "<Figure size 432x288 with 1 Axes>"
      ]
     },
     "metadata": {
      "needs_background": "light"
     },
     "output_type": "display_data"
    }
   ],
   "source": [
    "train.popularity.plot()"
   ]
  },
  {
   "cell_type": "code",
   "execution_count": 14,
   "metadata": {},
   "outputs": [
    {
     "data": {
      "text/plain": [
       "<AxesSubplot:>"
      ]
     },
     "execution_count": 14,
     "metadata": {},
     "output_type": "execute_result"
    },
    {
     "data": {
      "image/png": "[encoded data removed]",
      "text/plain": [
       "<Figure size 432x288 with 1 Axes>"
      ]
     },
     "metadata": {
      "needs_background": "light"
     },
     "output_type": "display_data"
    }
   ],
   "source": [
    "train.budget.plot()"
   ]
  },
  {
   "cell_type": "code",
   "execution_count": 15,
   "metadata": {},
   "outputs": [
    {
     "data": {
      "text/plain": [
       "823    Within the Coffin I Lie...ALIVE!\n",
       "Name: tagline, dtype: object"
      ]
     },
     "execution_count": 15,
     "metadata": {},
     "output_type": "execute_result"
    }
   ],
   "source": [
    "train['tagline'].sample()"
   ]
  },
  {
   "cell_type": "markdown",
   "metadata": {},
   "source": [
    "# Veri Mühendisliği ve Manipülasyonu"
   ]
  },
  {
   "cell_type": "markdown",
   "metadata": {},
   "source": [
    "**Yeni bir veriseti oluşturalım**"
   ]
  },
  {
   "cell_type": "code",
   "execution_count": 16,
   "metadata": {},
   "outputs": [],
   "source": [
    "df = pd.DataFrame()"
   ]
  },
  {
   "cell_type": "code",
   "execution_count": 17,
   "metadata": {},
   "outputs": [],
   "source": [
    "df = train.copy()"
   ]
  },
  {
   "cell_type": "markdown",
   "metadata": {},
   "source": [
    "## Budget "
   ]
  },
  {
   "cell_type": "code",
   "execution_count": 18,
   "metadata": {},
   "outputs": [
    {
     "data": {
      "text/plain": [
       "0       14000000\n",
       "1       40000000\n",
       "2        3300000\n",
       "3        1200000\n",
       "4              0\n",
       "          ...   \n",
       "2995           0\n",
       "2996           0\n",
       "2997    65000000\n",
       "2998    42000000\n",
       "2999    35000000\n",
       "Name: budget, Length: 3000, dtype: int64"
      ]
     },
     "execution_count": 18,
     "metadata": {},
     "output_type": "execute_result"
    }
   ],
   "source": [
    "df['budget']"
   ]
  },
  {
   "cell_type": "markdown",
   "metadata": {},
   "source": [
    "### Normalizasyon işlemi "
   ]
  },
  {
   "cell_type": "code",
   "execution_count": 19,
   "metadata": {},
   "outputs": [],
   "source": [
    "#df['budget']=(train['budget']-train['budget'].min())/(train['budget'].max()-train['budget'].min())"
   ]
  },
  {
   "cell_type": "markdown",
   "metadata": {},
   "source": [
    "# Genres"
   ]
  },
  {
   "cell_type": "code",
   "execution_count": 20,
   "metadata": {},
   "outputs": [],
   "source": [
    "def find_between( s, first, last ):\n",
    "    try:\n",
    "        start = s.index( first ) + len( first )\n",
    "        end = s.index( last, start )\n",
    "        return s[start:end]\n",
    "    except ValueError:\n",
    "        return \"\""
   ]
  },
  {
   "cell_type": "code",
   "execution_count": 21,
   "metadata": {},
   "outputs": [
    {
     "data": {
      "text/plain": [
       "'Comedy'"
      ]
     },
     "execution_count": 21,
     "metadata": {},
     "output_type": "execute_result"
    }
   ],
   "source": [
    "find_between(train['genres'][2995], \"'name': '\" , \"'\")"
   ]
  },
  {
   "cell_type": "code",
   "execution_count": 22,
   "metadata": {},
   "outputs": [
    {
     "data": {
      "text/plain": [
       "nan"
      ]
     },
     "execution_count": 22,
     "metadata": {},
     "output_type": "execute_result"
    }
   ],
   "source": [
    "df['genres'][470]"
   ]
  },
  {
   "cell_type": "code",
   "execution_count": 23,
   "metadata": {},
   "outputs": [],
   "source": [
    "for i in range(len(df['genres'])):\n",
    "    \n",
    "    try:\n",
    "        df['genres'][i] = find_between(df['genres'][i], \"'name': '\" , \"'\")\n",
    "    except AttributeError:\n",
    "        df['genres'][i] = df['genres'][i]\n",
    "        "
   ]
  },
  {
   "cell_type": "code",
   "execution_count": 24,
   "metadata": {},
   "outputs": [],
   "source": [
    "df['genres'] = df['genres'].astype('category')"
   ]
  },
  {
   "cell_type": "code",
   "execution_count": 25,
   "metadata": {},
   "outputs": [
    {
     "data": {
      "text/plain": [
       "0         Comedy\n",
       "1         Comedy\n",
       "2          Drama\n",
       "3       Thriller\n",
       "4         Action\n",
       "          ...   \n",
       "2995      Comedy\n",
       "2996       Drama\n",
       "2997       Crime\n",
       "2998      Comedy\n",
       "2999    Thriller\n",
       "Name: genres, Length: 3000, dtype: category\n",
       "Categories (20, object): ['Action', 'Adventure', 'Animation', 'Comedy', ..., 'TV Movie', 'Thriller', 'War', 'Western']"
      ]
     },
     "execution_count": 25,
     "metadata": {},
     "output_type": "execute_result"
    }
   ],
   "source": [
    "df['genres'] "
   ]
  },
  {
   "cell_type": "markdown",
   "metadata": {},
   "source": [
    "# Production Companies"
   ]
  },
  {
   "cell_type": "code",
   "execution_count": 26,
   "metadata": {},
   "outputs": [
    {
     "data": {
      "text/plain": [
       "\"[{'name': 'Bold Films', 'id': 2266}, {'name': 'Blumhouse Productions', 'id': 3172}, {'name': 'Right of Way Films', 'id': 32157}]\""
      ]
     },
     "execution_count": 26,
     "metadata": {},
     "output_type": "execute_result"
    }
   ],
   "source": [
    "train['production_companies'][2]"
   ]
  },
  {
   "cell_type": "code",
   "execution_count": 27,
   "metadata": {},
   "outputs": [],
   "source": [
    "for i in range(len(df['production_companies'])):\n",
    "    \n",
    "    try:\n",
    "        df['production_companies'][i] = find_between(df['production_companies'][i], \"'name': '\" , \"'\")\n",
    "    except AttributeError:\n",
    "        df['production_companies'][i] = df['production_companies'][i]"
   ]
  },
  {
   "cell_type": "code",
   "execution_count": 28,
   "metadata": {},
   "outputs": [
    {
     "data": {
      "text/plain": [
       "['WingNut Films',\n",
       " 'Legendary Pictures',\n",
       " 'Warner Bros.',\n",
       " 'Paramount Pictures',\n",
       " 'Walt Disney',\n",
       " 'Walt Disney Pictures',\n",
       " 'DC Comics',\n",
       " 'Ingenious Film Partners',\n",
       " 'Columbia Pictures',\n",
       " 'Marvel Studios']"
      ]
     },
     "execution_count": 28,
     "metadata": {},
     "output_type": "execute_result"
    }
   ],
   "source": [
    "list(df[df['budget']>200000000]['production_companies'].unique()) # Kaliteli olan firmaları bütçelere göre çektim"
   ]
  },
  {
   "cell_type": "markdown",
   "metadata": {},
   "source": [
    "**Sadece bu firmaların yaptığı filmlere farklı bir etiket vericem ve diğerlerine farklı bir etiket vericem**"
   ]
  },
  {
   "cell_type": "code",
   "execution_count": 29,
   "metadata": {},
   "outputs": [],
   "source": [
    "famous_companie_list = list(df[df['budget']>200000000]['production_companies'].unique())"
   ]
  },
  {
   "cell_type": "code",
   "execution_count": 30,
   "metadata": {},
   "outputs": [
    {
     "data": {
      "text/plain": [
       "['WingNut Films',\n",
       " 'Legendary Pictures',\n",
       " 'Warner Bros.',\n",
       " 'Paramount Pictures',\n",
       " 'Walt Disney',\n",
       " 'Walt Disney Pictures',\n",
       " 'DC Comics',\n",
       " 'Ingenious Film Partners',\n",
       " 'Columbia Pictures',\n",
       " 'Marvel Studios']"
      ]
     },
     "execution_count": 30,
     "metadata": {},
     "output_type": "execute_result"
    }
   ],
   "source": [
    "famous_companie_list"
   ]
  },
  {
   "cell_type": "code",
   "execution_count": 31,
   "metadata": {},
   "outputs": [],
   "source": [
    "for i in range(len(df['production_companies'])):\n",
    "    \n",
    "    if df['production_companies'][i] in famous_companie_list:\n",
    "        \n",
    "        df['production_companies'][i] = 1\n",
    "    else:\n",
    "       \n",
    "        df['production_companies'][i] = 0"
   ]
  },
  {
   "cell_type": "code",
   "execution_count": 32,
   "metadata": {},
   "outputs": [
    {
     "data": {
      "text/plain": [
       "array([1, 0], dtype=object)"
      ]
     },
     "execution_count": 32,
     "metadata": {},
     "output_type": "execute_result"
    }
   ],
   "source": [
    "df['production_companies'].unique()"
   ]
  },
  {
   "cell_type": "code",
   "execution_count": 33,
   "metadata": {},
   "outputs": [
    {
     "data": {
      "text/plain": [
       "0    2582\n",
       "1     418\n",
       "Name: production_companies, dtype: int64"
      ]
     },
     "execution_count": 33,
     "metadata": {},
     "output_type": "execute_result"
    }
   ],
   "source": [
    "df['production_companies'].value_counts()"
   ]
  },
  {
   "cell_type": "code",
   "execution_count": 34,
   "metadata": {},
   "outputs": [],
   "source": [
    "df['production_companies'] = df['production_companies'].astype('category')"
   ]
  },
  {
   "cell_type": "code",
   "execution_count": null,
   "metadata": {},
   "outputs": [],
   "source": []
  },
  {
   "cell_type": "markdown",
   "metadata": {},
   "source": [
    "# Production Countries"
   ]
  },
  {
   "cell_type": "code",
   "execution_count": 35,
   "metadata": {},
   "outputs": [
    {
     "data": {
      "text/plain": [
       "\"[{'iso_3166_1': 'US', 'name': 'United States of America'}]\""
      ]
     },
     "execution_count": 35,
     "metadata": {},
     "output_type": "execute_result"
    }
   ],
   "source": [
    "df['production_countries'][0]"
   ]
  },
  {
   "cell_type": "code",
   "execution_count": 36,
   "metadata": {},
   "outputs": [
    {
     "data": {
      "text/plain": [
       "'United States of America'"
      ]
     },
     "execution_count": 36,
     "metadata": {},
     "output_type": "execute_result"
    }
   ],
   "source": [
    "find_between(df['production_countries'][2], \"'name': '\" , \"'\")"
   ]
  },
  {
   "cell_type": "code",
   "execution_count": 37,
   "metadata": {},
   "outputs": [],
   "source": [
    "for i in range(len(df['production_countries'])):\n",
    "    \n",
    "    try:\n",
    "        df['production_countries'][i] = find_between(df['production_countries'][i], \"'name': '\" , \"'\")\n",
    "    except AttributeError:\n",
    "        df['production_countries'][i] = df['production_countries'][i]"
   ]
  },
  {
   "cell_type": "code",
   "execution_count": 38,
   "metadata": {},
   "outputs": [],
   "source": [
    "df['production_countries'] = df['production_countries'].astype('category')"
   ]
  },
  {
   "cell_type": "code",
   "execution_count": 39,
   "metadata": {},
   "outputs": [
    {
     "data": {
      "text/plain": [
       "0       United States of America\n",
       "1       United States of America\n",
       "2       United States of America\n",
       "3                          India\n",
       "4                    South Korea\n",
       "                  ...           \n",
       "2995    United States of America\n",
       "2996                     Denmark\n",
       "2997    United States of America\n",
       "2998    United States of America\n",
       "2999    United States of America\n",
       "Name: production_countries, Length: 3000, dtype: category\n",
       "Categories (60, object): ['Argentina', 'Australia', 'Austria', 'Bahamas', ..., 'United Arab Emirates', 'United Kingdom', 'United States of America', 'Uruguay']"
      ]
     },
     "execution_count": 39,
     "metadata": {},
     "output_type": "execute_result"
    }
   ],
   "source": [
    "df['production_countries']"
   ]
  },
  {
   "cell_type": "markdown",
   "metadata": {},
   "source": [
    "## Homepage"
   ]
  },
  {
   "cell_type": "code",
   "execution_count": 40,
   "metadata": {},
   "outputs": [
    {
     "data": {
      "text/plain": [
       "0                                     NaN\n",
       "1                                     NaN\n",
       "2       http://sonyclassics.com/whiplash/\n",
       "3              http://kahaanithefilm.com/\n",
       "4                                     NaN\n",
       "                      ...                \n",
       "2995                                  NaN\n",
       "2996                                  NaN\n",
       "2997                                  NaN\n",
       "2998       http://www.alongcamepolly.com/\n",
       "2999     http://www.abductionthefilm.com/\n",
       "Name: homepage, Length: 3000, dtype: object"
      ]
     },
     "execution_count": 40,
     "metadata": {},
     "output_type": "execute_result"
    }
   ],
   "source": [
    "df['homepage']"
   ]
  },
  {
   "cell_type": "markdown",
   "metadata": {},
   "source": [
    "**Burada web sayfası olan filmleri 1 olan etiketledim, olmayanları ise 0 olarak etiketledim**"
   ]
  },
  {
   "cell_type": "code",
   "execution_count": 41,
   "metadata": {},
   "outputs": [],
   "source": [
    "for i in range(len(df['homepage'])):\n",
    "    \n",
    "    try:\n",
    "    \n",
    "        if len(df['homepage'][i])>0:\n",
    "            df['homepage'][i] = 1\n",
    "        else:\n",
    "            df['homepage'][i] = 0\n",
    "            \n",
    "    except TypeError:\n",
    "        \n",
    "        df['homepage'][i] = 0"
   ]
  },
  {
   "cell_type": "code",
   "execution_count": 42,
   "metadata": {},
   "outputs": [
    {
     "data": {
      "text/plain": [
       "array([0, 1], dtype=object)"
      ]
     },
     "execution_count": 42,
     "metadata": {},
     "output_type": "execute_result"
    }
   ],
   "source": [
    "df['homepage'].unique()"
   ]
  },
  {
   "cell_type": "code",
   "execution_count": 43,
   "metadata": {},
   "outputs": [
    {
     "data": {
      "text/plain": [
       "0    2054\n",
       "1     946\n",
       "Name: homepage, dtype: int64"
      ]
     },
     "execution_count": 43,
     "metadata": {},
     "output_type": "execute_result"
    }
   ],
   "source": [
    "df['homepage'].value_counts()"
   ]
  },
  {
   "cell_type": "code",
   "execution_count": null,
   "metadata": {},
   "outputs": [],
   "source": []
  },
  {
   "cell_type": "markdown",
   "metadata": {},
   "source": [
    "# Original Language"
   ]
  },
  {
   "cell_type": "code",
   "execution_count": 44,
   "metadata": {},
   "outputs": [
    {
     "data": {
      "text/plain": [
       "0       en\n",
       "1       en\n",
       "2       en\n",
       "3       hi\n",
       "4       ko\n",
       "        ..\n",
       "2995    en\n",
       "2996    sv\n",
       "2997    en\n",
       "2998    en\n",
       "2999    en\n",
       "Name: original_language, Length: 3000, dtype: object"
      ]
     },
     "execution_count": 44,
     "metadata": {},
     "output_type": "execute_result"
    }
   ],
   "source": [
    "df['original_language']"
   ]
  },
  {
   "cell_type": "markdown",
   "metadata": {},
   "source": [
    "**İngilizce çekilen filmlerin çoğunlukta olduğunu görebiliyoruz**"
   ]
  },
  {
   "cell_type": "code",
   "execution_count": 45,
   "metadata": {},
   "outputs": [
    {
     "data": {
      "text/plain": [
       "en    2575\n",
       "fr      78\n",
       "ru      47\n",
       "es      43\n",
       "hi      42\n",
       "ja      37\n",
       "it      24\n",
       "ko      20\n",
       "cn      20\n",
       "zh      19\n",
       "de      18\n",
       "ta      16\n",
       "sv       8\n",
       "nl       6\n",
       "pt       6\n",
       "fa       5\n",
       "da       5\n",
       "ro       4\n",
       "tr       3\n",
       "hu       3\n",
       "fi       2\n",
       "no       2\n",
       "ml       2\n",
       "pl       2\n",
       "te       2\n",
       "el       1\n",
       "ar       1\n",
       "bn       1\n",
       "id       1\n",
       "cs       1\n",
       "nb       1\n",
       "ur       1\n",
       "mr       1\n",
       "sr       1\n",
       "vi       1\n",
       "he       1\n",
       "Name: original_language, dtype: int64"
      ]
     },
     "execution_count": 45,
     "metadata": {},
     "output_type": "execute_result"
    }
   ],
   "source": [
    "df['original_language'].value_counts()"
   ]
  },
  {
   "cell_type": "markdown",
   "metadata": {},
   "source": [
    "# Runtime"
   ]
  },
  {
   "cell_type": "code",
   "execution_count": 46,
   "metadata": {},
   "outputs": [],
   "source": [
    "df['runtime'] = df['runtime'].fillna(0)"
   ]
  },
  {
   "cell_type": "code",
   "execution_count": null,
   "metadata": {},
   "outputs": [],
   "source": []
  },
  {
   "cell_type": "markdown",
   "metadata": {},
   "source": [
    "# Modelling "
   ]
  },
  {
   "cell_type": "code",
   "execution_count": 47,
   "metadata": {},
   "outputs": [],
   "source": [
    "X = df[['production_countries', 'genres', 'budget', 'popularity', 'production_companies', 'homepage', 'original_language', 'runtime']]"
   ]
  },
  {
   "cell_type": "code",
   "execution_count": 48,
   "metadata": {},
   "outputs": [],
   "source": [
    "y = df['revenue']"
   ]
  },
  {
   "cell_type": "code",
   "execution_count": 49,
   "metadata": {},
   "outputs": [],
   "source": [
    "X = pd.get_dummies(X)"
   ]
  },
  {
   "cell_type": "code",
   "execution_count": 50,
   "metadata": {},
   "outputs": [
    {
     "data": {
      "text/html": [
       "<div>\n",
       "<style scoped>\n",
       "    .dataframe tbody tr th:only-of-type {\n",
       "        vertical-align: middle;\n",
       "    }\n",
       "\n",
       "    .dataframe tbody tr th {\n",
       "        vertical-align: top;\n",
       "    }\n",
       "\n",
       "    .dataframe thead th {\n",
       "        text-align: right;\n",
       "    }\n",
       "</style>\n",
       "<table border=\"1\" class=\"dataframe\">\n",
       "  <thead>\n",
       "    <tr style=\"text-align: right;\">\n",
       "      <th></th>\n",
       "      <th>budget</th>\n",
       "      <th>popularity</th>\n",
       "      <th>runtime</th>\n",
       "      <th>production_countries_Argentina</th>\n",
       "      <th>production_countries_Australia</th>\n",
       "      <th>production_countries_Austria</th>\n",
       "      <th>production_countries_Bahamas</th>\n",
       "      <th>production_countries_Belgium</th>\n",
       "      <th>production_countries_Bosnia and Herzegovina</th>\n",
       "      <th>production_countries_Brazil</th>\n",
       "      <th>...</th>\n",
       "      <th>original_language_ro</th>\n",
       "      <th>original_language_ru</th>\n",
       "      <th>original_language_sr</th>\n",
       "      <th>original_language_sv</th>\n",
       "      <th>original_language_ta</th>\n",
       "      <th>original_language_te</th>\n",
       "      <th>original_language_tr</th>\n",
       "      <th>original_language_ur</th>\n",
       "      <th>original_language_vi</th>\n",
       "      <th>original_language_zh</th>\n",
       "    </tr>\n",
       "  </thead>\n",
       "  <tbody>\n",
       "    <tr>\n",
       "      <th>0</th>\n",
       "      <td>14000000</td>\n",
       "      <td>6.575393</td>\n",
       "      <td>93.0</td>\n",
       "      <td>0</td>\n",
       "      <td>0</td>\n",
       "      <td>0</td>\n",
       "      <td>0</td>\n",
       "      <td>0</td>\n",
       "      <td>0</td>\n",
       "      <td>0</td>\n",
       "      <td>...</td>\n",
       "      <td>0</td>\n",
       "      <td>0</td>\n",
       "      <td>0</td>\n",
       "      <td>0</td>\n",
       "      <td>0</td>\n",
       "      <td>0</td>\n",
       "      <td>0</td>\n",
       "      <td>0</td>\n",
       "      <td>0</td>\n",
       "      <td>0</td>\n",
       "    </tr>\n",
       "    <tr>\n",
       "      <th>1</th>\n",
       "      <td>40000000</td>\n",
       "      <td>8.248895</td>\n",
       "      <td>113.0</td>\n",
       "      <td>0</td>\n",
       "      <td>0</td>\n",
       "      <td>0</td>\n",
       "      <td>0</td>\n",
       "      <td>0</td>\n",
       "      <td>0</td>\n",
       "      <td>0</td>\n",
       "      <td>...</td>\n",
       "      <td>0</td>\n",
       "      <td>0</td>\n",
       "      <td>0</td>\n",
       "      <td>0</td>\n",
       "      <td>0</td>\n",
       "      <td>0</td>\n",
       "      <td>0</td>\n",
       "      <td>0</td>\n",
       "      <td>0</td>\n",
       "      <td>0</td>\n",
       "    </tr>\n",
       "    <tr>\n",
       "      <th>2</th>\n",
       "      <td>3300000</td>\n",
       "      <td>64.299990</td>\n",
       "      <td>105.0</td>\n",
       "      <td>0</td>\n",
       "      <td>0</td>\n",
       "      <td>0</td>\n",
       "      <td>0</td>\n",
       "      <td>0</td>\n",
       "      <td>0</td>\n",
       "      <td>0</td>\n",
       "      <td>...</td>\n",
       "      <td>0</td>\n",
       "      <td>0</td>\n",
       "      <td>0</td>\n",
       "      <td>0</td>\n",
       "      <td>0</td>\n",
       "      <td>0</td>\n",
       "      <td>0</td>\n",
       "      <td>0</td>\n",
       "      <td>0</td>\n",
       "      <td>0</td>\n",
       "    </tr>\n",
       "    <tr>\n",
       "      <th>3</th>\n",
       "      <td>1200000</td>\n",
       "      <td>3.174936</td>\n",
       "      <td>122.0</td>\n",
       "      <td>0</td>\n",
       "      <td>0</td>\n",
       "      <td>0</td>\n",
       "      <td>0</td>\n",
       "      <td>0</td>\n",
       "      <td>0</td>\n",
       "      <td>0</td>\n",
       "      <td>...</td>\n",
       "      <td>0</td>\n",
       "      <td>0</td>\n",
       "      <td>0</td>\n",
       "      <td>0</td>\n",
       "      <td>0</td>\n",
       "      <td>0</td>\n",
       "      <td>0</td>\n",
       "      <td>0</td>\n",
       "      <td>0</td>\n",
       "      <td>0</td>\n",
       "    </tr>\n",
       "    <tr>\n",
       "      <th>4</th>\n",
       "      <td>0</td>\n",
       "      <td>1.148070</td>\n",
       "      <td>118.0</td>\n",
       "      <td>0</td>\n",
       "      <td>0</td>\n",
       "      <td>0</td>\n",
       "      <td>0</td>\n",
       "      <td>0</td>\n",
       "      <td>0</td>\n",
       "      <td>0</td>\n",
       "      <td>...</td>\n",
       "      <td>0</td>\n",
       "      <td>0</td>\n",
       "      <td>0</td>\n",
       "      <td>0</td>\n",
       "      <td>0</td>\n",
       "      <td>0</td>\n",
       "      <td>0</td>\n",
       "      <td>0</td>\n",
       "      <td>0</td>\n",
       "      <td>0</td>\n",
       "    </tr>\n",
       "    <tr>\n",
       "      <th>...</th>\n",
       "      <td>...</td>\n",
       "      <td>...</td>\n",
       "      <td>...</td>\n",
       "      <td>...</td>\n",
       "      <td>...</td>\n",
       "      <td>...</td>\n",
       "      <td>...</td>\n",
       "      <td>...</td>\n",
       "      <td>...</td>\n",
       "      <td>...</td>\n",
       "      <td>...</td>\n",
       "      <td>...</td>\n",
       "      <td>...</td>\n",
       "      <td>...</td>\n",
       "      <td>...</td>\n",
       "      <td>...</td>\n",
       "      <td>...</td>\n",
       "      <td>...</td>\n",
       "      <td>...</td>\n",
       "      <td>...</td>\n",
       "      <td>...</td>\n",
       "    </tr>\n",
       "    <tr>\n",
       "      <th>2995</th>\n",
       "      <td>0</td>\n",
       "      <td>9.853270</td>\n",
       "      <td>102.0</td>\n",
       "      <td>0</td>\n",
       "      <td>0</td>\n",
       "      <td>0</td>\n",
       "      <td>0</td>\n",
       "      <td>0</td>\n",
       "      <td>0</td>\n",
       "      <td>0</td>\n",
       "      <td>...</td>\n",
       "      <td>0</td>\n",
       "      <td>0</td>\n",
       "      <td>0</td>\n",
       "      <td>0</td>\n",
       "      <td>0</td>\n",
       "      <td>0</td>\n",
       "      <td>0</td>\n",
       "      <td>0</td>\n",
       "      <td>0</td>\n",
       "      <td>0</td>\n",
       "    </tr>\n",
       "    <tr>\n",
       "      <th>2996</th>\n",
       "      <td>0</td>\n",
       "      <td>3.727996</td>\n",
       "      <td>102.0</td>\n",
       "      <td>0</td>\n",
       "      <td>0</td>\n",
       "      <td>0</td>\n",
       "      <td>0</td>\n",
       "      <td>0</td>\n",
       "      <td>0</td>\n",
       "      <td>0</td>\n",
       "      <td>...</td>\n",
       "      <td>0</td>\n",
       "      <td>0</td>\n",
       "      <td>0</td>\n",
       "      <td>1</td>\n",
       "      <td>0</td>\n",
       "      <td>0</td>\n",
       "      <td>0</td>\n",
       "      <td>0</td>\n",
       "      <td>0</td>\n",
       "      <td>0</td>\n",
       "    </tr>\n",
       "    <tr>\n",
       "      <th>2997</th>\n",
       "      <td>65000000</td>\n",
       "      <td>14.482345</td>\n",
       "      <td>120.0</td>\n",
       "      <td>0</td>\n",
       "      <td>0</td>\n",
       "      <td>0</td>\n",
       "      <td>0</td>\n",
       "      <td>0</td>\n",
       "      <td>0</td>\n",
       "      <td>0</td>\n",
       "      <td>...</td>\n",
       "      <td>0</td>\n",
       "      <td>0</td>\n",
       "      <td>0</td>\n",
       "      <td>0</td>\n",
       "      <td>0</td>\n",
       "      <td>0</td>\n",
       "      <td>0</td>\n",
       "      <td>0</td>\n",
       "      <td>0</td>\n",
       "      <td>0</td>\n",
       "    </tr>\n",
       "    <tr>\n",
       "      <th>2998</th>\n",
       "      <td>42000000</td>\n",
       "      <td>15.725542</td>\n",
       "      <td>90.0</td>\n",
       "      <td>0</td>\n",
       "      <td>0</td>\n",
       "      <td>0</td>\n",
       "      <td>0</td>\n",
       "      <td>0</td>\n",
       "      <td>0</td>\n",
       "      <td>0</td>\n",
       "      <td>...</td>\n",
       "      <td>0</td>\n",
       "      <td>0</td>\n",
       "      <td>0</td>\n",
       "      <td>0</td>\n",
       "      <td>0</td>\n",
       "      <td>0</td>\n",
       "      <td>0</td>\n",
       "      <td>0</td>\n",
       "      <td>0</td>\n",
       "      <td>0</td>\n",
       "    </tr>\n",
       "    <tr>\n",
       "      <th>2999</th>\n",
       "      <td>35000000</td>\n",
       "      <td>10.512109</td>\n",
       "      <td>106.0</td>\n",
       "      <td>0</td>\n",
       "      <td>0</td>\n",
       "      <td>0</td>\n",
       "      <td>0</td>\n",
       "      <td>0</td>\n",
       "      <td>0</td>\n",
       "      <td>0</td>\n",
       "      <td>...</td>\n",
       "      <td>0</td>\n",
       "      <td>0</td>\n",
       "      <td>0</td>\n",
       "      <td>0</td>\n",
       "      <td>0</td>\n",
       "      <td>0</td>\n",
       "      <td>0</td>\n",
       "      <td>0</td>\n",
       "      <td>0</td>\n",
       "      <td>0</td>\n",
       "    </tr>\n",
       "  </tbody>\n",
       "</table>\n",
       "<p>3000 rows × 123 columns</p>\n",
       "</div>"
      ],
      "text/plain": [
       "        budget  popularity  runtime  production_countries_Argentina  \\\n",
       "0     14000000    6.575393     93.0                               0   \n",
       "1     40000000    8.248895    113.0                               0   \n",
       "2      3300000   64.299990    105.0                               0   \n",
       "3      1200000    3.174936    122.0                               0   \n",
       "4            0    1.148070    118.0                               0   \n",
       "...        ...         ...      ...                             ...   \n",
       "2995         0    9.853270    102.0                               0   \n",
       "2996         0    3.727996    102.0                               0   \n",
       "2997  65000000   14.482345    120.0                               0   \n",
       "2998  42000000   15.725542     90.0                               0   \n",
       "2999  35000000   10.512109    106.0                               0   \n",
       "\n",
       "      production_countries_Australia  production_countries_Austria  \\\n",
       "0                                  0                             0   \n",
       "1                                  0                             0   \n",
       "2                                  0                             0   \n",
       "3                                  0                             0   \n",
       "4                                  0                             0   \n",
       "...                              ...                           ...   \n",
       "2995                               0                             0   \n",
       "2996                               0                             0   \n",
       "2997                               0                             0   \n",
       "2998                               0                             0   \n",
       "2999                               0                             0   \n",
       "\n",
       "      production_countries_Bahamas  production_countries_Belgium  \\\n",
       "0                                0                             0   \n",
       "1                                0                             0   \n",
       "2                                0                             0   \n",
       "3                                0                             0   \n",
       "4                                0                             0   \n",
       "...                            ...                           ...   \n",
       "2995                             0                             0   \n",
       "2996                             0                             0   \n",
       "2997                             0                             0   \n",
       "2998                             0                             0   \n",
       "2999                             0                             0   \n",
       "\n",
       "      production_countries_Bosnia and Herzegovina  \\\n",
       "0                                               0   \n",
       "1                                               0   \n",
       "2                                               0   \n",
       "3                                               0   \n",
       "4                                               0   \n",
       "...                                           ...   \n",
       "2995                                            0   \n",
       "2996                                            0   \n",
       "2997                                            0   \n",
       "2998                                            0   \n",
       "2999                                            0   \n",
       "\n",
       "      production_countries_Brazil  ...  original_language_ro  \\\n",
       "0                               0  ...                     0   \n",
       "1                               0  ...                     0   \n",
       "2                               0  ...                     0   \n",
       "3                               0  ...                     0   \n",
       "4                               0  ...                     0   \n",
       "...                           ...  ...                   ...   \n",
       "2995                            0  ...                     0   \n",
       "2996                            0  ...                     0   \n",
       "2997                            0  ...                     0   \n",
       "2998                            0  ...                     0   \n",
       "2999                            0  ...                     0   \n",
       "\n",
       "      original_language_ru  original_language_sr  original_language_sv  \\\n",
       "0                        0                     0                     0   \n",
       "1                        0                     0                     0   \n",
       "2                        0                     0                     0   \n",
       "3                        0                     0                     0   \n",
       "4                        0                     0                     0   \n",
       "...                    ...                   ...                   ...   \n",
       "2995                     0                     0                     0   \n",
       "2996                     0                     0                     1   \n",
       "2997                     0                     0                     0   \n",
       "2998                     0                     0                     0   \n",
       "2999                     0                     0                     0   \n",
       "\n",
       "      original_language_ta  original_language_te  original_language_tr  \\\n",
       "0                        0                     0                     0   \n",
       "1                        0                     0                     0   \n",
       "2                        0                     0                     0   \n",
       "3                        0                     0                     0   \n",
       "4                        0                     0                     0   \n",
       "...                    ...                   ...                   ...   \n",
       "2995                     0                     0                     0   \n",
       "2996                     0                     0                     0   \n",
       "2997                     0                     0                     0   \n",
       "2998                     0                     0                     0   \n",
       "2999                     0                     0                     0   \n",
       "\n",
       "      original_language_ur  original_language_vi  original_language_zh  \n",
       "0                        0                     0                     0  \n",
       "1                        0                     0                     0  \n",
       "2                        0                     0                     0  \n",
       "3                        0                     0                     0  \n",
       "4                        0                     0                     0  \n",
       "...                    ...                   ...                   ...  \n",
       "2995                     0                     0                     0  \n",
       "2996                     0                     0                     0  \n",
       "2997                     0                     0                     0  \n",
       "2998                     0                     0                     0  \n",
       "2999                     0                     0                     0  \n",
       "\n",
       "[3000 rows x 123 columns]"
      ]
     },
     "execution_count": 50,
     "metadata": {},
     "output_type": "execute_result"
    }
   ],
   "source": [
    "X"
   ]
  },
  {
   "cell_type": "code",
   "execution_count": 51,
   "metadata": {},
   "outputs": [],
   "source": [
    "from sklearn.linear_model import LinearRegression\n",
    "from sklearn.linear_model import ElasticNet\n",
    "from sklearn.tree import ExtraTreeRegressor\n",
    "from sklearn.ensemble import GradientBoostingRegressor\n",
    "from xgboost import XGBRegressor\n",
    "from sklearn.metrics import mean_absolute_error\n",
    "from sklearn.linear_model import Ridge,Lasso\n",
    "from sklearn.metrics import mean_squared_error,r2_score\n",
    "from sklearn.model_selection import train_test_split"
   ]
  },
  {
   "cell_type": "code",
   "execution_count": 52,
   "metadata": {},
   "outputs": [],
   "source": [
    "def algo_test(x, y):\n",
    "    \n",
    "    L = LinearRegression()\n",
    "    E = ElasticNet()\n",
    "    R = Ridge()\n",
    "    Lass = Lasso()\n",
    "    ETR = ExtraTreeRegressor()\n",
    "    GBR = GradientBoostingRegressor()\n",
    "    XGBC = XGBRegressor()\n",
    "    \n",
    "    X_train, X_test, y_train, y_test = train_test_split(X, y, test_size = 0.2, random_state=13)\n",
    "    \n",
    "    algos = [L, E, R, Lass, ETR, GBR, XGBC]\n",
    "    algo_names= ['Linear', 'ElasticNet', 'Ridge', 'Lasso', 'Extra Tree', 'Gradient Boosting', 'XGBRegressor']\n",
    "    r_squared = []\n",
    "    rmse = []\n",
    "    mae = []\n",
    "    \n",
    "    result = pd.DataFrame(columns = ['R_Squared', 'RMSE', 'MAE'],\n",
    "                           index = algo_names)\n",
    "    \n",
    "    for algo in algos:\n",
    "        algo.fit(X_train, y_train)\n",
    "        algo.predict(X_test)\n",
    "        \n",
    "        r_squared.append(r2_score(y_test, algo.predict(X_test)))\n",
    "        rmse.append(mean_squared_error(y_test, algo.predict(X_test))**.5)\n",
    "        mae.append(mean_absolute_error(y_test, algo.predict(X_test)))\n",
    "        \n",
    "    result.R_Squared = r_squared\n",
    "    result.RMSE = rmse\n",
    "    result.MAE = mae\n",
    "    \n",
    "    return result.sort_values('R_Squared', ascending=False)"
   ]
  },
  {
   "cell_type": "code",
   "execution_count": 53,
   "metadata": {},
   "outputs": [
    {
     "data": {
      "text/html": [
       "<div>\n",
       "<style scoped>\n",
       "    .dataframe tbody tr th:only-of-type {\n",
       "        vertical-align: middle;\n",
       "    }\n",
       "\n",
       "    .dataframe tbody tr th {\n",
       "        vertical-align: top;\n",
       "    }\n",
       "\n",
       "    .dataframe thead th {\n",
       "        text-align: right;\n",
       "    }\n",
       "</style>\n",
       "<table border=\"1\" class=\"dataframe\">\n",
       "  <thead>\n",
       "    <tr style=\"text-align: right;\">\n",
       "      <th></th>\n",
       "      <th>R_Squared</th>\n",
       "      <th>RMSE</th>\n",
       "      <th>MAE</th>\n",
       "    </tr>\n",
       "  </thead>\n",
       "  <tbody>\n",
       "    <tr>\n",
       "      <th>Gradient Boosting</th>\n",
       "      <td>0.574149</td>\n",
       "      <td>9.477344e+07</td>\n",
       "      <td>4.539537e+07</td>\n",
       "    </tr>\n",
       "    <tr>\n",
       "      <th>ElasticNet</th>\n",
       "      <td>0.555249</td>\n",
       "      <td>9.685365e+07</td>\n",
       "      <td>4.688019e+07</td>\n",
       "    </tr>\n",
       "    <tr>\n",
       "      <th>Ridge</th>\n",
       "      <td>0.550918</td>\n",
       "      <td>9.732407e+07</td>\n",
       "      <td>5.000571e+07</td>\n",
       "    </tr>\n",
       "    <tr>\n",
       "      <th>Lasso</th>\n",
       "      <td>0.547092</td>\n",
       "      <td>9.773784e+07</td>\n",
       "      <td>5.042721e+07</td>\n",
       "    </tr>\n",
       "    <tr>\n",
       "      <th>Linear</th>\n",
       "      <td>0.547007</td>\n",
       "      <td>9.774693e+07</td>\n",
       "      <td>5.046440e+07</td>\n",
       "    </tr>\n",
       "    <tr>\n",
       "      <th>XGBRegressor</th>\n",
       "      <td>0.513084</td>\n",
       "      <td>1.013409e+08</td>\n",
       "      <td>4.909584e+07</td>\n",
       "    </tr>\n",
       "    <tr>\n",
       "      <th>Extra Tree</th>\n",
       "      <td>0.291051</td>\n",
       "      <td>1.222828e+08</td>\n",
       "      <td>5.843993e+07</td>\n",
       "    </tr>\n",
       "  </tbody>\n",
       "</table>\n",
       "</div>"
      ],
      "text/plain": [
       "                   R_Squared          RMSE           MAE\n",
       "Gradient Boosting   0.574149  9.477344e+07  4.539537e+07\n",
       "ElasticNet          0.555249  9.685365e+07  4.688019e+07\n",
       "Ridge               0.550918  9.732407e+07  5.000571e+07\n",
       "Lasso               0.547092  9.773784e+07  5.042721e+07\n",
       "Linear              0.547007  9.774693e+07  5.046440e+07\n",
       "XGBRegressor        0.513084  1.013409e+08  4.909584e+07\n",
       "Extra Tree          0.291051  1.222828e+08  5.843993e+07"
      ]
     },
     "execution_count": 53,
     "metadata": {},
     "output_type": "execute_result"
    }
   ],
   "source": [
    "algo_test(X, y)"
   ]
  },
  {
   "cell_type": "code",
   "execution_count": null,
   "metadata": {},
   "outputs": [],
   "source": []
  },
  {
   "cell_type": "code",
   "execution_count": null,
   "metadata": {},
   "outputs": [],
   "source": []
  },
  {
   "cell_type": "code",
   "execution_count": null,
   "metadata": {},
   "outputs": [],
   "source": []
  },
  {
   "cell_type": "code",
   "execution_count": null,
   "metadata": {},
   "outputs": [],
   "source": []
  }
 ],
 "metadata": {
  "kernelspec": {
   "display_name": "Python 3",
   "language": "python",
   "name": "python3"
  },
  "language_info": {
   "codemirror_mode": {
    "name": "ipython",
    "version": 3
   },
   "file_extension": ".py",
   "mimetype": "text/x-python",
   "name": "python",
   "nbconvert_exporter": "python",
   "pygments_lexer": "ipython3",
   "version": "3.8.5"
  }
 },
 "nbformat": 4,
 "nbformat_minor": 4
}
