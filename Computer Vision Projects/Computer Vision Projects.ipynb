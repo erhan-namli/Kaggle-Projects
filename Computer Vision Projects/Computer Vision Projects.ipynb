{
 "cells": [
  {
   "cell_type": "code",
   "execution_count": 6,
   "metadata": {},
   "outputs": [
    {
     "name": "stdout",
     "output_type": "stream",
     "text": [
      "Collecting face-recognition\n",
      "  Using cached face_recognition-1.3.0-py2.py3-none-any.whl (15 kB)\n",
      "Collecting dlib>=19.7\n",
      "  Using cached dlib-19.22.0.tar.gz (7.4 MB)\n",
      "Requirement already satisfied: numpy in c:\\users\\monsterhan\\anaconda3\\lib\\site-packages (from face-recognition) (1.19.5)\n",
      "Requirement already satisfied: Click>=6.0 in c:\\users\\monsterhan\\anaconda3\\lib\\site-packages (from face-recognition) (7.1.2)\n",
      "Requirement already satisfied: Pillow in c:\\users\\monsterhan\\anaconda3\\lib\\site-packages (from face-recognition) (8.0.1)\n",
      "Requirement already satisfied: face-recognition-models>=0.3.0 in c:\\users\\monsterhan\\anaconda3\\lib\\site-packages (from face-recognition) (0.3.0)\n",
      "Building wheels for collected packages: dlib\n",
      "  Building wheel for dlib (setup.py): started\n",
      "  Building wheel for dlib (setup.py): finished with status 'error'\n",
      "  Running setup.py clean for dlib\n",
      "Failed to build dlib\n",
      "Installing collected packages: dlib, face-recognition\n",
      "    Running setup.py install for dlib: started\n",
      "    Running setup.py install for dlib: finished with status 'error'\n",
      "Note: you may need to restart the kernel to use updated packages.\n"
     ]
    },
    {
     "name": "stderr",
     "output_type": "stream",
     "text": [
      "  ERROR: Command errored out with exit status 1:\n",
      "   command: 'C:\\Users\\MONSTERHAN\\anaconda3\\python.exe' -u -c 'import io, os, sys, setuptools, tokenize; sys.argv[0] = '\"'\"'C:\\\\Users\\\\MONSTERHAN\\\\AppData\\\\Local\\\\Temp\\\\pip-install-6ju1vqdy\\\\dlib_641bb735446a45bba42451877b73fb09\\\\setup.py'\"'\"'; __file__='\"'\"'C:\\\\Users\\\\MONSTERHAN\\\\AppData\\\\Local\\\\Temp\\\\pip-install-6ju1vqdy\\\\dlib_641bb735446a45bba42451877b73fb09\\\\setup.py'\"'\"';f = getattr(tokenize, '\"'\"'open'\"'\"', open)(__file__) if os.path.exists(__file__) else io.StringIO('\"'\"'from setuptools import setup; setup()'\"'\"');code = f.read().replace('\"'\"'\\r\\n'\"'\"', '\"'\"'\\n'\"'\"');f.close();exec(compile(code, __file__, '\"'\"'exec'\"'\"'))' bdist_wheel -d 'C:\\Users\\MONSTERHAN\\AppData\\Local\\Temp\\pip-wheel-iem9hn5g'\n",
      "       cwd: C:\\Users\\MONSTERHAN\\AppData\\Local\\Temp\\pip-install-6ju1vqdy\\dlib_641bb735446a45bba42451877b73fb09\\\n",
      "  Complete output (8 lines):\n",
      "  running bdist_wheel\n",
      "  running build\n",
      "  running build_py\n",
      "  package init file 'tools\\python\\dlib\\__init__.py' not found (or not a regular file)\n",
      "  running build_ext\n",
      "  \n",
      "  ERROR: CMake must be installed to build dlib\n",
      "  \n",
      "  ----------------------------------------\n",
      "  ERROR: Failed building wheel for dlib\n",
      "    ERROR: Command errored out with exit status 1:\n",
      "     command: 'C:\\Users\\MONSTERHAN\\anaconda3\\python.exe' -u -c 'import io, os, sys, setuptools, tokenize; sys.argv[0] = '\"'\"'C:\\\\Users\\\\MONSTERHAN\\\\AppData\\\\Local\\\\Temp\\\\pip-install-6ju1vqdy\\\\dlib_641bb735446a45bba42451877b73fb09\\\\setup.py'\"'\"'; __file__='\"'\"'C:\\\\Users\\\\MONSTERHAN\\\\AppData\\\\Local\\\\Temp\\\\pip-install-6ju1vqdy\\\\dlib_641bb735446a45bba42451877b73fb09\\\\setup.py'\"'\"';f = getattr(tokenize, '\"'\"'open'\"'\"', open)(__file__) if os.path.exists(__file__) else io.StringIO('\"'\"'from setuptools import setup; setup()'\"'\"');code = f.read().replace('\"'\"'\\r\\n'\"'\"', '\"'\"'\\n'\"'\"');f.close();exec(compile(code, __file__, '\"'\"'exec'\"'\"'))' install --record 'C:\\Users\\MONSTERHAN\\AppData\\Local\\Temp\\pip-record-l9n_awtf\\install-record.txt' --single-version-externally-managed --user --prefix= --compile --install-headers 'C:\\Users\\MONSTERHAN\\AppData\\Roaming\\Python\\Python38\\Include\\dlib'\n",
      "         cwd: C:\\Users\\MONSTERHAN\\AppData\\Local\\Temp\\pip-install-6ju1vqdy\\dlib_641bb735446a45bba42451877b73fb09\\\n",
      "    Complete output (8 lines):\n",
      "    running install\n",
      "    running build\n",
      "    running build_py\n",
      "    package init file 'tools\\python\\dlib\\__init__.py' not found (or not a regular file)\n",
      "    running build_ext\n",
      "    \n",
      "    ERROR: CMake must be installed to build dlib\n",
      "    \n",
      "    ----------------------------------------\n",
      "ERROR: Command errored out with exit status 1: 'C:\\Users\\MONSTERHAN\\anaconda3\\python.exe' -u -c 'import io, os, sys, setuptools, tokenize; sys.argv[0] = '\"'\"'C:\\\\Users\\\\MONSTERHAN\\\\AppData\\\\Local\\\\Temp\\\\pip-install-6ju1vqdy\\\\dlib_641bb735446a45bba42451877b73fb09\\\\setup.py'\"'\"'; __file__='\"'\"'C:\\\\Users\\\\MONSTERHAN\\\\AppData\\\\Local\\\\Temp\\\\pip-install-6ju1vqdy\\\\dlib_641bb735446a45bba42451877b73fb09\\\\setup.py'\"'\"';f = getattr(tokenize, '\"'\"'open'\"'\"', open)(__file__) if os.path.exists(__file__) else io.StringIO('\"'\"'from setuptools import setup; setup()'\"'\"');code = f.read().replace('\"'\"'\\r\\n'\"'\"', '\"'\"'\\n'\"'\"');f.close();exec(compile(code, __file__, '\"'\"'exec'\"'\"'))' install --record 'C:\\Users\\MONSTERHAN\\AppData\\Local\\Temp\\pip-record-l9n_awtf\\install-record.txt' --single-version-externally-managed --user --prefix= --compile --install-headers 'C:\\Users\\MONSTERHAN\\AppData\\Roaming\\Python\\Python38\\Include\\dlib' Check the logs for full command output.\n"
     ]
    }
   ],
   "source": [
    "pip install --user face-recognition"
   ]
  },
  {
   "cell_type": "code",
   "execution_count": 10,
   "metadata": {},
   "outputs": [
    {
     "name": "stdout",
     "output_type": "stream",
     "text": [
      "Collecting face_recognition\n",
      "  Using cached face_recognition-1.3.0-py2.py3-none-any.whl (15 kB)\n",
      "Requirement already satisfied: Pillow in c:\\users\\monsterhan\\anaconda3\\lib\\site-packages (from face_recognition) (8.0.1)\n",
      "Requirement already satisfied: face-recognition-models>=0.3.0 in c:\\users\\monsterhan\\anaconda3\\lib\\site-packages (from face_recognition) (0.3.0)\n",
      "Requirement already satisfied: numpy in c:\\users\\monsterhan\\anaconda3\\lib\\site-packages (from face_recognition) (1.19.5)\n",
      "Collecting dlib>=19.7\n",
      "  Using cached dlib-19.22.0.tar.gz (7.4 MB)\n",
      "Requirement already satisfied: Click>=6.0 in c:\\users\\monsterhan\\anaconda3\\lib\\site-packages (from face_recognition) (7.1.2)\n",
      "Building wheels for collected packages: dlib\n",
      "  Building wheel for dlib (setup.py): started\n",
      "  Building wheel for dlib (setup.py): finished with status 'error'\n",
      "  Running setup.py clean for dlib\n",
      "Failed to build dlib\n",
      "Installing collected packages: dlib, face-recognition\n",
      "    Running setup.py install for dlib: started\n",
      "    Running setup.py install for dlib: finished with status 'error'\n",
      "Note: you may need to restart the kernel to use updated packages.\n"
     ]
    },
    {
     "name": "stderr",
     "output_type": "stream",
     "text": [
      "  ERROR: Command errored out with exit status 1:\n",
      "   command: 'C:\\Users\\MONSTERHAN\\anaconda3\\python.exe' -u -c 'import io, os, sys, setuptools, tokenize; sys.argv[0] = '\"'\"'C:\\\\Users\\\\MONSTERHAN\\\\AppData\\\\Local\\\\Temp\\\\pip-install-6hgn4ul3\\\\dlib_3fb4ff3ec9df4899a20268957b2c9701\\\\setup.py'\"'\"'; __file__='\"'\"'C:\\\\Users\\\\MONSTERHAN\\\\AppData\\\\Local\\\\Temp\\\\pip-install-6hgn4ul3\\\\dlib_3fb4ff3ec9df4899a20268957b2c9701\\\\setup.py'\"'\"';f = getattr(tokenize, '\"'\"'open'\"'\"', open)(__file__) if os.path.exists(__file__) else io.StringIO('\"'\"'from setuptools import setup; setup()'\"'\"');code = f.read().replace('\"'\"'\\r\\n'\"'\"', '\"'\"'\\n'\"'\"');f.close();exec(compile(code, __file__, '\"'\"'exec'\"'\"'))' bdist_wheel -d 'C:\\Users\\MONSTERHAN\\AppData\\Local\\Temp\\pip-wheel-hx0shibs'\n",
      "       cwd: C:\\Users\\MONSTERHAN\\AppData\\Local\\Temp\\pip-install-6hgn4ul3\\dlib_3fb4ff3ec9df4899a20268957b2c9701\\\n",
      "  Complete output (8 lines):\n",
      "  running bdist_wheel\n",
      "  running build\n",
      "  running build_py\n",
      "  package init file 'tools\\python\\dlib\\__init__.py' not found (or not a regular file)\n",
      "  running build_ext\n",
      "  \n",
      "  ERROR: CMake must be installed to build dlib\n",
      "  \n",
      "  ----------------------------------------\n",
      "  ERROR: Failed building wheel for dlib\n",
      "    ERROR: Command errored out with exit status 1:\n",
      "     command: 'C:\\Users\\MONSTERHAN\\anaconda3\\python.exe' -u -c 'import io, os, sys, setuptools, tokenize; sys.argv[0] = '\"'\"'C:\\\\Users\\\\MONSTERHAN\\\\AppData\\\\Local\\\\Temp\\\\pip-install-6hgn4ul3\\\\dlib_3fb4ff3ec9df4899a20268957b2c9701\\\\setup.py'\"'\"'; __file__='\"'\"'C:\\\\Users\\\\MONSTERHAN\\\\AppData\\\\Local\\\\Temp\\\\pip-install-6hgn4ul3\\\\dlib_3fb4ff3ec9df4899a20268957b2c9701\\\\setup.py'\"'\"';f = getattr(tokenize, '\"'\"'open'\"'\"', open)(__file__) if os.path.exists(__file__) else io.StringIO('\"'\"'from setuptools import setup; setup()'\"'\"');code = f.read().replace('\"'\"'\\r\\n'\"'\"', '\"'\"'\\n'\"'\"');f.close();exec(compile(code, __file__, '\"'\"'exec'\"'\"'))' install --record 'C:\\Users\\MONSTERHAN\\AppData\\Local\\Temp\\pip-record-j7iq4aig\\install-record.txt' --single-version-externally-managed --compile --install-headers 'C:\\Users\\MONSTERHAN\\anaconda3\\Include\\dlib'\n",
      "         cwd: C:\\Users\\MONSTERHAN\\AppData\\Local\\Temp\\pip-install-6hgn4ul3\\dlib_3fb4ff3ec9df4899a20268957b2c9701\\\n",
      "    Complete output (8 lines):\n",
      "    running install\n",
      "    running build\n",
      "    running build_py\n",
      "    package init file 'tools\\python\\dlib\\__init__.py' not found (or not a regular file)\n",
      "    running build_ext\n",
      "    \n",
      "    ERROR: CMake must be installed to build dlib\n",
      "    \n",
      "    ----------------------------------------\n",
      "ERROR: Command errored out with exit status 1: 'C:\\Users\\MONSTERHAN\\anaconda3\\python.exe' -u -c 'import io, os, sys, setuptools, tokenize; sys.argv[0] = '\"'\"'C:\\\\Users\\\\MONSTERHAN\\\\AppData\\\\Local\\\\Temp\\\\pip-install-6hgn4ul3\\\\dlib_3fb4ff3ec9df4899a20268957b2c9701\\\\setup.py'\"'\"'; __file__='\"'\"'C:\\\\Users\\\\MONSTERHAN\\\\AppData\\\\Local\\\\Temp\\\\pip-install-6hgn4ul3\\\\dlib_3fb4ff3ec9df4899a20268957b2c9701\\\\setup.py'\"'\"';f = getattr(tokenize, '\"'\"'open'\"'\"', open)(__file__) if os.path.exists(__file__) else io.StringIO('\"'\"'from setuptools import setup; setup()'\"'\"');code = f.read().replace('\"'\"'\\r\\n'\"'\"', '\"'\"'\\n'\"'\"');f.close();exec(compile(code, __file__, '\"'\"'exec'\"'\"'))' install --record 'C:\\Users\\MONSTERHAN\\AppData\\Local\\Temp\\pip-record-j7iq4aig\\install-record.txt' --single-version-externally-managed --compile --install-headers 'C:\\Users\\MONSTERHAN\\anaconda3\\Include\\dlib' Check the logs for full command output.\n"
     ]
    }
   ],
   "source": [
    "pip install face_recognition"
   ]
  },
  {
   "cell_type": "code",
   "execution_count": null,
   "metadata": {},
   "outputs": [],
   "source": []
  },
  {
   "cell_type": "code",
   "execution_count": 7,
   "metadata": {},
   "outputs": [
    {
     "ename": "ModuleNotFoundError",
     "evalue": "No module named 'face_recognition'",
     "output_type": "error",
     "traceback": [
      "\u001b[1;31m---------------------------------------------------------------------------\u001b[0m",
      "\u001b[1;31mModuleNotFoundError\u001b[0m                       Traceback (most recent call last)",
      "\u001b[1;32m<ipython-input-7-f693bfe35235>\u001b[0m in \u001b[0;36m<module>\u001b[1;34m\u001b[0m\n\u001b[1;32m----> 1\u001b[1;33m \u001b[1;32mimport\u001b[0m \u001b[0mface_recognition\u001b[0m\u001b[1;33m\u001b[0m\u001b[1;33m\u001b[0m\u001b[0m\n\u001b[0m\u001b[0;32m      2\u001b[0m \u001b[0mimage\u001b[0m \u001b[1;33m=\u001b[0m \u001b[0mface_recognition\u001b[0m\u001b[1;33m.\u001b[0m\u001b[0mload_image_file\u001b[0m\u001b[1;33m(\u001b[0m\u001b[1;34m\"your_file.jpg\"\u001b[0m\u001b[1;33m)\u001b[0m\u001b[1;33m\u001b[0m\u001b[1;33m\u001b[0m\u001b[0m\n\u001b[0;32m      3\u001b[0m \u001b[0mface_locations\u001b[0m \u001b[1;33m=\u001b[0m \u001b[0mface_recognition\u001b[0m\u001b[1;33m.\u001b[0m\u001b[0mface_locations\u001b[0m\u001b[1;33m(\u001b[0m\u001b[0mimage\u001b[0m\u001b[1;33m)\u001b[0m\u001b[1;33m\u001b[0m\u001b[1;33m\u001b[0m\u001b[0m\n",
      "\u001b[1;31mModuleNotFoundError\u001b[0m: No module named 'face_recognition'"
     ]
    }
   ],
   "source": [
    "import face_recognition\n",
    "image = face_recognition.load_image_file(\"your_file.jpg\")\n",
    "face_locations = face_recognition.face_locations(image)"
   ]
  },
  {
   "cell_type": "code",
   "execution_count": null,
   "metadata": {},
   "outputs": [],
   "source": []
  }
 ],
 "metadata": {
  "kernelspec": {
   "display_name": "Python 3",
   "language": "python",
   "name": "python3"
  },
  "language_info": {
   "codemirror_mode": {
    "name": "ipython",
    "version": 3
   },
   "file_extension": ".py",
   "mimetype": "text/x-python",
   "name": "python",
   "nbconvert_exporter": "python",
   "pygments_lexer": "ipython3",
   "version": "3.8.5"
  }
 },
 "nbformat": 4,
 "nbformat_minor": 4
}
